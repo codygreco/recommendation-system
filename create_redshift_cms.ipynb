{
 "cells": [
  {
   "cell_type": "code",
   "execution_count": null,
   "metadata": {
    "collapsed": true
   },
   "outputs": [],
   "source": [
    "import boto3\n",
    "import pandas as pd\n",
    "import glob\n",
    "import os"
   ]
  },
  {
   "cell_type": "code",
   "execution_count": null,
   "metadata": {
    "collapsed": false
   },
   "outputs": [],
   "source": [
    "from urllib2 import Request, urlopen\n",
    "import json\n",
    "from sqlalchemy import create_engine\n",
    "import sqlalchemy\n",
    "query = 'science'\n",
    "fields = 'headline,body,shortUrl'\n",
    "api_key  = '6ad864bd-9bb6-4cf1-bdfd-11b5a03c3490'"
   ]
  },
  {
   "cell_type": "code",
   "execution_count": null,
   "metadata": {
    "collapsed": false
   },
   "outputs": [],
   "source": [
    "def guardian_data(query,fields,api_key):\n",
    "    '''\n",
    "    The Guardian API limits developers accounts to 5000 requests.\n",
    "    If you have a business account feel free to change the request range.\n",
    "    number_of_pages will have all of the pages for the specified query.\n",
    "    '''\n",
    "    url_path = 'https://content.guardianapis.com/search?q={0}&show-fields={1}&api-key={2}'.format(query,fields,api_key)\n",
    "    request=Request(url_path)\n",
    "    response = urlopen(request)\n",
    "    articles = response.read()\n",
    "    a_json = json.loads(articles)\n",
    "    number_of_pages = a_json['response']['pages']\n",
    "    fields_data = []\n",
    "    for i in range(1,5000):\n",
    "        if i % 500 == 0:\n",
    "            print \"Loading page {0} out of {1}\".format(i,number_of_pages)\n",
    "        url_path = 'https://content.guardianapis.com/search?q={0}&show-fields={1}&api-key={2}&page={3}'.format(query,fields,api_key,i)\n",
    "        request = Request(url_path)\n",
    "        response = urlopen(request)\n",
    "        articles = response.read()\n",
    "        a_json = json.loads(articles)\n",
    "        results = a_json['response']['results']\n",
    "        for i in range(0,10):\n",
    "            fields_data.append(dict(results[i])['fields'])\n",
    "    dataframe = pd.DataFrame(fields_data)\n",
    "    return dataframe"
   ]
  },
  {
   "cell_type": "code",
   "execution_count": null,
   "metadata": {
    "collapsed": false
   },
   "outputs": [],
   "source": [
    "query = 'science'\n",
    "fields = 'headline,body,shortUrl'\n",
    "api_key  = '6ad864bd-9bb6-4cf1-bdfd-11b5a03c3490'\n",
    "content_df = guardian_data(query,fields,api_key)"
   ]
  },
  {
   "cell_type": "code",
   "execution_count": null,
   "metadata": {
    "collapsed": true
   },
   "outputs": [],
   "source": [
    "def clean_html(x):\n",
    "    soup = BeautifulSoup(x)\n",
    "    text = soup.get_text()\n",
    "    return text"
   ]
  },
  {
   "cell_type": "code",
   "execution_count": null,
   "metadata": {
    "collapsed": true
   },
   "outputs": [],
   "source": [
    "content_df.loc['body'] = content_df['body'].map(lambda x: clean_html(x))"
   ]
  },
  {
   "cell_type": "code",
   "execution_count": null,
   "metadata": {
    "collapsed": true
   },
   "outputs": [],
   "source": [
    "def to_redshift(username,password,server,db_name,dataframe,table_name):\n",
    "    print \"Starting dataframe upload to database.\"\n",
    "    engine = create_engine('postgresql://{0}:{1}@{2}:5439/{3}'.format(username,password,server,db_name))\n",
    "    dataframe.to_sql(table_name, engine, index = False, chunksize=1000, if_exists = 'replace', dtype=\n",
    "                             {'body': sqlalchemy.types.NVARCHAR(length=65535), \n",
    "                             'headline':  sqlalchemy.types.NVARCHAR(length=255),\n",
    "                             'shortUrl': sqlalchemy.types.NVARCHAR(length=255)\n",
    "                             })\n",
    "    print 'Upload done.'"
   ]
  },
  {
   "cell_type": "code",
   "execution_count": null,
   "metadata": {
    "collapsed": true
   },
   "outputs": [],
   "source": [
    "username = 'admin'\n",
    "password = 'password'\n",
    "server = 'cms-database.cquvdpnoor3i.us-west-2.redshift.amazonaws.com'\n",
    "db_name = 'dev'\n",
    "table_name = 'posts'"
   ]
  },
  {
   "cell_type": "code",
   "execution_count": null,
   "metadata": {
    "collapsed": false
   },
   "outputs": [],
   "source": [
    "to_redshift(username,password,server,db_name,content_df,table_name)"
   ]
  },
  {
   "cell_type": "code",
   "execution_count": null,
   "metadata": {
    "collapsed": true
   },
   "outputs": [],
   "source": []
  }
 ],
 "metadata": {
  "kernelspec": {
   "display_name": "Python 2",
   "language": "python",
   "name": "python2"
  },
  "language_info": {
   "codemirror_mode": {
    "name": "ipython",
    "version": 2
   },
   "file_extension": ".py",
   "mimetype": "text/x-python",
   "name": "python",
   "nbconvert_exporter": "python",
   "pygments_lexer": "ipython2",
   "version": "2.7.11"
  }
 },
 "nbformat": 4,
 "nbformat_minor": 0
}
